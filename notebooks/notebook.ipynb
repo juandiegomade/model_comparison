{
 "cells": [
  {
   "cell_type": "code",
   "execution_count": 2,
   "metadata": {},
   "outputs": [],
   "source": [
    "import pandas as pd\n",
    "import numpy as np\n",
    "import matplotlib.pyplot as plt\n",
    "import seaborn as sns\n",
    "from sklearn.metrics import r2_score, mean_squared_error\n",
    "from sklearn.linear_model import LinearRegression, Lasso\n",
    "from sklearn.tree import DecisionTreeRegressor\n",
    "from sklearn.ensemble import RandomForestRegressor\n",
    "from sklearn.preprocessing import StandardScaler\n",
    "from sklearn.model_selection import GridSearchCV"
   ]
  },
  {
   "cell_type": "code",
   "execution_count": 3,
   "metadata": {},
   "outputs": [],
   "source": [
    "df_train = pd.read_csv('https://raw.githubusercontent.com/4GeeksAcademy/machine-learning-content/master/assets/clean_petrol_consumption_train.csv')\n",
    "df_test = pd.read_csv('https://raw.githubusercontent.com/4GeeksAcademy/machine-learning-content/master/assets/clean_petrol_consumption_test.csv')"
   ]
  },
  {
   "cell_type": "code",
   "execution_count": 4,
   "metadata": {},
   "outputs": [
    {
     "data": {
      "text/html": [
       "<div>\n",
       "<style scoped>\n",
       "    .dataframe tbody tr th:only-of-type {\n",
       "        vertical-align: middle;\n",
       "    }\n",
       "\n",
       "    .dataframe tbody tr th {\n",
       "        vertical-align: top;\n",
       "    }\n",
       "\n",
       "    .dataframe thead th {\n",
       "        text-align: right;\n",
       "    }\n",
       "</style>\n",
       "<table border=\"1\" class=\"dataframe\">\n",
       "  <thead>\n",
       "    <tr style=\"text-align: right;\">\n",
       "      <th></th>\n",
       "      <th>count</th>\n",
       "      <th>mean</th>\n",
       "      <th>std</th>\n",
       "      <th>min</th>\n",
       "      <th>25%</th>\n",
       "      <th>50%</th>\n",
       "      <th>75%</th>\n",
       "      <th>max</th>\n",
       "    </tr>\n",
       "  </thead>\n",
       "  <tbody>\n",
       "    <tr>\n",
       "      <th>Petrol_tax</th>\n",
       "      <td>38.0</td>\n",
       "      <td>7.646842</td>\n",
       "      <td>1.003737</td>\n",
       "      <td>5.000</td>\n",
       "      <td>7.000</td>\n",
       "      <td>7.5000</td>\n",
       "      <td>8.00000</td>\n",
       "      <td>10.000</td>\n",
       "    </tr>\n",
       "    <tr>\n",
       "      <th>Average_income</th>\n",
       "      <td>38.0</td>\n",
       "      <td>4272.921053</td>\n",
       "      <td>603.724314</td>\n",
       "      <td>3063.000</td>\n",
       "      <td>3739.000</td>\n",
       "      <td>4298.0000</td>\n",
       "      <td>4685.25000</td>\n",
       "      <td>5342.000</td>\n",
       "    </tr>\n",
       "    <tr>\n",
       "      <th>Paved_Highways</th>\n",
       "      <td>38.0</td>\n",
       "      <td>5744.973684</td>\n",
       "      <td>3717.940323</td>\n",
       "      <td>602.000</td>\n",
       "      <td>3329.250</td>\n",
       "      <td>4705.5000</td>\n",
       "      <td>7834.00000</td>\n",
       "      <td>17782.000</td>\n",
       "    </tr>\n",
       "    <tr>\n",
       "      <th>Population_Driver_licence(%)</th>\n",
       "      <td>38.0</td>\n",
       "      <td>0.569447</td>\n",
       "      <td>0.057805</td>\n",
       "      <td>0.451</td>\n",
       "      <td>0.529</td>\n",
       "      <td>0.5645</td>\n",
       "      <td>0.59975</td>\n",
       "      <td>0.724</td>\n",
       "    </tr>\n",
       "    <tr>\n",
       "      <th>Petrol_Consumption</th>\n",
       "      <td>38.0</td>\n",
       "      <td>578.789474</td>\n",
       "      <td>118.610687</td>\n",
       "      <td>344.000</td>\n",
       "      <td>508.500</td>\n",
       "      <td>563.5000</td>\n",
       "      <td>634.25000</td>\n",
       "      <td>968.000</td>\n",
       "    </tr>\n",
       "  </tbody>\n",
       "</table>\n",
       "</div>"
      ],
      "text/plain": [
       "                              count         mean          std       min  \\\n",
       "Petrol_tax                     38.0     7.646842     1.003737     5.000   \n",
       "Average_income                 38.0  4272.921053   603.724314  3063.000   \n",
       "Paved_Highways                 38.0  5744.973684  3717.940323   602.000   \n",
       "Population_Driver_licence(%)   38.0     0.569447     0.057805     0.451   \n",
       "Petrol_Consumption             38.0   578.789474   118.610687   344.000   \n",
       "\n",
       "                                   25%        50%         75%        max  \n",
       "Petrol_tax                       7.000     7.5000     8.00000     10.000  \n",
       "Average_income                3739.000  4298.0000  4685.25000   5342.000  \n",
       "Paved_Highways                3329.250  4705.5000  7834.00000  17782.000  \n",
       "Population_Driver_licence(%)     0.529     0.5645     0.59975      0.724  \n",
       "Petrol_Consumption             508.500   563.5000   634.25000    968.000  "
      ]
     },
     "execution_count": 4,
     "metadata": {},
     "output_type": "execute_result"
    }
   ],
   "source": [
    "df_train.describe().T"
   ]
  },
  {
   "cell_type": "code",
   "execution_count": 5,
   "metadata": {},
   "outputs": [
    {
     "data": {
      "text/html": [
       "<div>\n",
       "<style scoped>\n",
       "    .dataframe tbody tr th:only-of-type {\n",
       "        vertical-align: middle;\n",
       "    }\n",
       "\n",
       "    .dataframe tbody tr th {\n",
       "        vertical-align: top;\n",
       "    }\n",
       "\n",
       "    .dataframe thead th {\n",
       "        text-align: right;\n",
       "    }\n",
       "</style>\n",
       "<table border=\"1\" class=\"dataframe\">\n",
       "  <thead>\n",
       "    <tr style=\"text-align: right;\">\n",
       "      <th></th>\n",
       "      <th>Petrol_tax</th>\n",
       "      <th>Average_income</th>\n",
       "      <th>Paved_Highways</th>\n",
       "      <th>Population_Driver_licence(%)</th>\n",
       "      <th>Petrol_Consumption</th>\n",
       "    </tr>\n",
       "  </thead>\n",
       "  <tbody>\n",
       "    <tr>\n",
       "      <th>Petrol_tax</th>\n",
       "      <td>1.000000</td>\n",
       "      <td>0.035224</td>\n",
       "      <td>-0.557169</td>\n",
       "      <td>-0.338274</td>\n",
       "      <td>-0.468701</td>\n",
       "    </tr>\n",
       "    <tr>\n",
       "      <th>Average_income</th>\n",
       "      <td>0.035224</td>\n",
       "      <td>1.000000</td>\n",
       "      <td>0.063792</td>\n",
       "      <td>0.130655</td>\n",
       "      <td>-0.221793</td>\n",
       "    </tr>\n",
       "    <tr>\n",
       "      <th>Paved_Highways</th>\n",
       "      <td>-0.557169</td>\n",
       "      <td>0.063792</td>\n",
       "      <td>1.000000</td>\n",
       "      <td>-0.128690</td>\n",
       "      <td>-0.065765</td>\n",
       "    </tr>\n",
       "    <tr>\n",
       "      <th>Population_Driver_licence(%)</th>\n",
       "      <td>-0.338274</td>\n",
       "      <td>0.130655</td>\n",
       "      <td>-0.128690</td>\n",
       "      <td>1.000000</td>\n",
       "      <td>0.742374</td>\n",
       "    </tr>\n",
       "    <tr>\n",
       "      <th>Petrol_Consumption</th>\n",
       "      <td>-0.468701</td>\n",
       "      <td>-0.221793</td>\n",
       "      <td>-0.065765</td>\n",
       "      <td>0.742374</td>\n",
       "      <td>1.000000</td>\n",
       "    </tr>\n",
       "  </tbody>\n",
       "</table>\n",
       "</div>"
      ],
      "text/plain": [
       "                              Petrol_tax  Average_income  Paved_Highways  \\\n",
       "Petrol_tax                      1.000000        0.035224       -0.557169   \n",
       "Average_income                  0.035224        1.000000        0.063792   \n",
       "Paved_Highways                 -0.557169        0.063792        1.000000   \n",
       "Population_Driver_licence(%)   -0.338274        0.130655       -0.128690   \n",
       "Petrol_Consumption             -0.468701       -0.221793       -0.065765   \n",
       "\n",
       "                              Population_Driver_licence(%)  Petrol_Consumption  \n",
       "Petrol_tax                                       -0.338274           -0.468701  \n",
       "Average_income                                    0.130655           -0.221793  \n",
       "Paved_Highways                                   -0.128690           -0.065765  \n",
       "Population_Driver_licence(%)                      1.000000            0.742374  \n",
       "Petrol_Consumption                                0.742374            1.000000  "
      ]
     },
     "execution_count": 5,
     "metadata": {},
     "output_type": "execute_result"
    }
   ],
   "source": [
    "df_train.corr()"
   ]
  },
  {
   "cell_type": "code",
   "execution_count": 6,
   "metadata": {},
   "outputs": [],
   "source": [
    "X_train = df_train.drop(['Petrol_Consumption'],axis=1)\n",
    "X_test = df_test.drop(['Petrol_Consumption'],axis=1)\n",
    "y_train = df_train.Petrol_Consumption\n",
    "y_test = df_test['Petrol_Consumption']"
   ]
  },
  {
   "cell_type": "code",
   "execution_count": 7,
   "metadata": {},
   "outputs": [],
   "source": [
    "scaler = StandardScaler()\n",
    "X_train_sc = scaler.fit_transform(X_train)\n",
    "X_test_sc = scaler.transform(X_test)\n"
   ]
  },
  {
   "cell_type": "code",
   "execution_count": 30,
   "metadata": {},
   "outputs": [
    {
     "name": "stdout",
     "output_type": "stream",
     "text": [
      "MSE: 63.900358932836966\n",
      "R2: 0.3913664001428856\n"
     ]
    }
   ],
   "source": [
    "# Linear Regression\n",
    "\n",
    "model_lr = LinearRegression()\n",
    "model_lr.fit(X_train_sc,y_train)\n",
    "y_hat_lr = model_lr.predict(X_test_sc)\n",
    "\n",
    "print(f'MSE: {np.sqrt(mean_squared_error(y_test,y_hat_lr))}')\n",
    "print(f'R2: {r2_score(y_test,y_hat_lr)}')\n",
    "\n",
    "rmse_lr = np.sqrt(mean_squared_error(y_test,y_hat_lr))\n",
    "r2_lr = r2_score(y_test,y_hat_lr)"
   ]
  },
  {
   "cell_type": "code",
   "execution_count": 31,
   "metadata": {},
   "outputs": [
    {
     "name": "stdout",
     "output_type": "stream",
     "text": [
      "MSE: 63.57590818093325\n",
      "R2: 0.39753132022876303\n"
     ]
    }
   ],
   "source": [
    "# Lasso\n",
    "\n",
    "model_ls = Lasso(random_state=2014)\n",
    "model_ls.fit(X_train_sc,y_train)\n",
    "y_hat_ls = model_ls.predict(X_test_sc)\n",
    "\n",
    "print(f'MSE: {np.sqrt(mean_squared_error(y_test,y_hat_ls))}')\n",
    "print(f'R2: {r2_score(y_test,y_hat_ls)}')\n",
    "\n",
    "rmse_ls = np.sqrt(mean_squared_error(y_test,y_hat_ls))\n",
    "r2_ls = r2_score(y_test,y_hat_ls)"
   ]
  },
  {
   "cell_type": "code",
   "execution_count": 32,
   "metadata": {},
   "outputs": [
    {
     "name": "stdout",
     "output_type": "stream",
     "text": [
      "MSE: 130.18755700910899\n",
      "R2: -1.5263195550977877\n"
     ]
    }
   ],
   "source": [
    "# Decision Tree\n",
    "\n",
    "model_tr = DecisionTreeRegressor(random_state=2014)\n",
    "model_tr.fit(X_train_sc,y_train)\n",
    "y_hat_tr = model_tr.predict(X_test_sc)\n",
    "\n",
    "print(f'MSE: {np.sqrt(mean_squared_error(y_test,y_hat_tr))}')\n",
    "print(f'R2: {r2_score(y_test,y_hat_tr)}')\n",
    "\n",
    "rmse_tr = np.sqrt(mean_squared_error(y_test,y_hat_tr))\n",
    "r2_tr = r2_score(y_test,y_hat_tr)"
   ]
  },
  {
   "cell_type": "code",
   "execution_count": 33,
   "metadata": {},
   "outputs": [
    {
     "name": "stdout",
     "output_type": "stream",
     "text": [
      "MSE: 88.19885078616389\n",
      "R2: -0.15951182386356022\n"
     ]
    }
   ],
   "source": [
    "# Random Forest\n",
    "\n",
    "model_rf = RandomForestRegressor(random_state=2014)\n",
    "model_rf.fit(X_train_sc,y_train)\n",
    "y_hat_rf = model_rf.predict(X_test_sc)\n",
    "\n",
    "print(f'MSE: {np.sqrt(mean_squared_error(y_test,y_hat_rf))}')\n",
    "print(f'R2: {r2_score(y_test,y_hat_rf)}')\n",
    "\n",
    "rmse_rf = np.sqrt(mean_squared_error(y_test,y_hat_rf))\n",
    "r2_rf = r2_score(y_test,y_hat_rf)"
   ]
  },
  {
   "cell_type": "code",
   "execution_count": 34,
   "metadata": {},
   "outputs": [
    {
     "name": "stdout",
     "output_type": "stream",
     "text": [
      "MSE: 77.23792570797185\n",
      "R2: 0.11077731671406454\n"
     ]
    }
   ],
   "source": [
    "# RandomForest with Grid Search\n",
    "param_grid = {\n",
    "    # RandomForestRegressor().get_params().keys()\n",
    "    'max_depth':[3,4,5,6],\n",
    "    'min_samples_split':[3,5,7],\n",
    "    'random_state': [2014]\n",
    "}\n",
    "\n",
    "grid_search_rf = GridSearchCV(model_rf,param_grid=param_grid, n_jobs=-1)\n",
    "grid_search_rf.fit(X_train_sc,y_train)\n",
    "y_hat_gs_rf = grid_search_rf.predict(X_test_sc)\n",
    "\n",
    "print(f'MSE: {np.sqrt(mean_squared_error(y_test,y_hat_gs_rf))}')\n",
    "print(f'R2: {r2_score(y_test,y_hat_gs_rf)}')\n",
    "\n",
    "rmse_gs_rf = np.sqrt(mean_squared_error(y_test,y_hat_gs_rf))\n",
    "r2_gs_rf = r2_score(y_test,y_hat_gs_rf)"
   ]
  },
  {
   "cell_type": "code",
   "execution_count": 18,
   "metadata": {},
   "outputs": [],
   "source": [
    "rmse_list = []\n",
    "\n",
    "rmse_list.append(rmse_lr)\n",
    "rmse_list.append(rmse_ls)\n",
    "rmse_list.append(rmse_tr)\n",
    "rmse_list.append(rmse_rf)\n",
    "rmse_list.append(rmse_gs_rf)"
   ]
  },
  {
   "cell_type": "code",
   "execution_count": 35,
   "metadata": {},
   "outputs": [],
   "source": [
    "r2_list = []\n",
    "\n",
    "r2_list.append(r2_lr)\n",
    "r2_list.append(r2_ls)\n",
    "r2_list.append(r2_tr)\n",
    "r2_list.append(r2_rf)\n",
    "r2_list.append(r2_gs_rf)"
   ]
  },
  {
   "cell_type": "code",
   "execution_count": 37,
   "metadata": {},
   "outputs": [
    {
     "data": {
      "text/html": [
       "<style type=\"text/css\">\n",
       "#T_d90a0_row0_col1 {\n",
       "  background-color: #f3efef;\n",
       "  color: #000000;\n",
       "}\n",
       "#T_d90a0_row0_col2, #T_d90a0_row1_col2, #T_d90a0_row2_col1 {\n",
       "  background-color: #ff0000;\n",
       "  color: #f1f1f1;\n",
       "}\n",
       "#T_d90a0_row1_col1, #T_d90a0_row2_col2 {\n",
       "  background-color: #f3f0f0;\n",
       "  color: #000000;\n",
       "}\n",
       "#T_d90a0_row3_col1 {\n",
       "  background-color: #f79897;\n",
       "  color: #000000;\n",
       "}\n",
       "#T_d90a0_row3_col2 {\n",
       "  background-color: #fb4646;\n",
       "  color: #f1f1f1;\n",
       "}\n",
       "#T_d90a0_row4_col1 {\n",
       "  background-color: #f5bfbf;\n",
       "  color: #000000;\n",
       "}\n",
       "#T_d90a0_row4_col2 {\n",
       "  background-color: #fd2424;\n",
       "  color: #f1f1f1;\n",
       "}\n",
       "</style>\n",
       "<table id=\"T_d90a0\">\n",
       "  <thead>\n",
       "    <tr>\n",
       "      <th class=\"blank level0\" >&nbsp;</th>\n",
       "      <th id=\"T_d90a0_level0_col0\" class=\"col_heading level0 col0\" >model_name</th>\n",
       "      <th id=\"T_d90a0_level0_col1\" class=\"col_heading level0 col1\" >RMSE</th>\n",
       "      <th id=\"T_d90a0_level0_col2\" class=\"col_heading level0 col2\" >R2</th>\n",
       "    </tr>\n",
       "  </thead>\n",
       "  <tbody>\n",
       "    <tr>\n",
       "      <th id=\"T_d90a0_level0_row0\" class=\"row_heading level0 row0\" >0</th>\n",
       "      <td id=\"T_d90a0_row0_col0\" class=\"data row0 col0\" >linear regression</td>\n",
       "      <td id=\"T_d90a0_row0_col1\" class=\"data row0 col1\" >63.900359</td>\n",
       "      <td id=\"T_d90a0_row0_col2\" class=\"data row0 col2\" >0.391366</td>\n",
       "    </tr>\n",
       "    <tr>\n",
       "      <th id=\"T_d90a0_level0_row1\" class=\"row_heading level0 row1\" >1</th>\n",
       "      <td id=\"T_d90a0_row1_col0\" class=\"data row1 col0\" >lasso</td>\n",
       "      <td id=\"T_d90a0_row1_col1\" class=\"data row1 col1\" >63.575908</td>\n",
       "      <td id=\"T_d90a0_row1_col2\" class=\"data row1 col2\" >0.397531</td>\n",
       "    </tr>\n",
       "    <tr>\n",
       "      <th id=\"T_d90a0_level0_row2\" class=\"row_heading level0 row2\" >2</th>\n",
       "      <td id=\"T_d90a0_row2_col0\" class=\"data row2 col0\" >decision tree</td>\n",
       "      <td id=\"T_d90a0_row2_col1\" class=\"data row2 col1\" >130.187557</td>\n",
       "      <td id=\"T_d90a0_row2_col2\" class=\"data row2 col2\" >-1.526320</td>\n",
       "    </tr>\n",
       "    <tr>\n",
       "      <th id=\"T_d90a0_level0_row3\" class=\"row_heading level0 row3\" >3</th>\n",
       "      <td id=\"T_d90a0_row3_col0\" class=\"data row3 col0\" >random forest</td>\n",
       "      <td id=\"T_d90a0_row3_col1\" class=\"data row3 col1\" >88.198851</td>\n",
       "      <td id=\"T_d90a0_row3_col2\" class=\"data row3 col2\" >-0.159512</td>\n",
       "    </tr>\n",
       "    <tr>\n",
       "      <th id=\"T_d90a0_level0_row4\" class=\"row_heading level0 row4\" >4</th>\n",
       "      <td id=\"T_d90a0_row4_col0\" class=\"data row4 col0\" >grid search rf</td>\n",
       "      <td id=\"T_d90a0_row4_col1\" class=\"data row4 col1\" >77.237926</td>\n",
       "      <td id=\"T_d90a0_row4_col2\" class=\"data row4 col2\" >0.110777</td>\n",
       "    </tr>\n",
       "  </tbody>\n",
       "</table>\n"
      ],
      "text/plain": [
       "<pandas.io.formats.style.Styler at 0x7f02a1031360>"
      ]
     },
     "execution_count": 37,
     "metadata": {},
     "output_type": "execute_result"
    }
   ],
   "source": [
    "cm =sns.light_palette('red', as_cmap=True)\n",
    "model_compare = pd.DataFrame({'model_name':['linear regression','lasso','decision tree','random forest','grid search rf'],'RMSE':rmse_list, 'R2':r2_list})\n",
    "model_compare.style.background_gradient(cmap=cm)"
   ]
  },
  {
   "cell_type": "code",
   "execution_count": 24,
   "metadata": {},
   "outputs": [
    {
     "data": {
      "image/png": "[encoded data removed]",
      "text/plain": [
       "<Figure size 640x480 with 1 Axes>"
      ]
     },
     "metadata": {},
     "output_type": "display_data"
    }
   ],
   "source": [
    "plt.scatter(x=y_test,y=y_hat_lr)\n",
    "plt.xlabel('y true')\n",
    "plt.ylabel('y predicted')\n",
    "plt.show()"
   ]
  },
  {
   "cell_type": "code",
   "execution_count": 25,
   "metadata": {},
   "outputs": [
    {
     "data": {
      "image/png": "[encoded data removed]",
      "text/plain": [
       "<Figure size 640x480 with 1 Axes>"
      ]
     },
     "metadata": {},
     "output_type": "display_data"
    }
   ],
   "source": [
    "plt.scatter(x=y_test,y=y_hat_ls)\n",
    "plt.xlabel('y true')\n",
    "plt.ylabel('y predicted')\n",
    "plt.show()"
   ]
  },
  {
   "cell_type": "code",
   "execution_count": 26,
   "metadata": {},
   "outputs": [
    {
     "data": {
      "image/png": "[encoded data removed]",
      "text/plain": [
       "<Figure size 640x480 with 1 Axes>"
      ]
     },
     "metadata": {},
     "output_type": "display_data"
    }
   ],
   "source": [
    "plt.scatter(x=y_test,y=y_hat_tr)\n",
    "plt.xlabel('y true')\n",
    "plt.ylabel('y predicted')\n",
    "plt.show()"
   ]
  },
  {
   "cell_type": "code",
   "execution_count": 27,
   "metadata": {},
   "outputs": [
    {
     "data": {
      "image/png": "[encoded data removed]",
      "text/plain": [
       "<Figure size 640x480 with 1 Axes>"
      ]
     },
     "metadata": {},
     "output_type": "display_data"
    }
   ],
   "source": [
    "plt.scatter(x=y_test,y=y_hat_rf)\n",
    "plt.xlabel('y true')\n",
    "plt.ylabel('y predicted')\n",
    "plt.show()"
   ]
  },
  {
   "cell_type": "code",
   "execution_count": 28,
   "metadata": {},
   "outputs": [
    {
     "data": {
      "image/png": "[encoded data removed]",
      "text/plain": [
       "<Figure size 640x480 with 1 Axes>"
      ]
     },
     "metadata": {},
     "output_type": "display_data"
    }
   ],
   "source": [
    "plt.scatter(x=y_test,y=y_hat_gs_rf)\n",
    "plt.xlabel('y true')\n",
    "plt.ylabel('y predicted')\n",
    "plt.show()"
   ]
  }
 ],
 "metadata": {
  "kernelspec": {
   "display_name": ".venv",
   "language": "python",
   "name": "python3"
  },
  "language_info": {
   "codemirror_mode": {
    "name": "ipython",
    "version": 3
   },
   "file_extension": ".py",
   "mimetype": "text/x-python",
   "name": "python",
   "nbconvert_exporter": "python",
   "pygments_lexer": "ipython3",
   "version": "3.10.8"
  },
  "orig_nbformat": 4
 },
 "nbformat": 4,
 "nbformat_minor": 2
}
